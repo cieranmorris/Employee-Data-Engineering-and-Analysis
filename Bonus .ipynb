{
 "cells": [
  {
   "cell_type": "markdown",
   "metadata": {},
   "source": [
    "## Bonus Question: \n",
    "### Import the SQL database into Pandas\n",
    "### Create a histogram to visualize the most common salary ranges for employees\n",
    "### Create a bar chart of average salary by title"
   ]
  },
  {
   "cell_type": "code",
   "execution_count": 1,
   "metadata": {},
   "outputs": [],
   "source": [
    "#Import appropriate modules\n",
    "import pandas as pd\n",
    "import matplotlib.pyplot as plt\n",
    "import numpy as np\n",
    "import os\n",
    "import scipy.stats as sts"
   ]
  },
  {
   "cell_type": "code",
   "execution_count": 2,
   "metadata": {},
   "outputs": [
    {
     "ename": "ModuleNotFoundError",
     "evalue": "No module named 'config'",
     "output_type": "error",
     "traceback": [
      "\u001b[0;31m---------------------------------------------------------------------------\u001b[0m",
      "\u001b[0;31mModuleNotFoundError\u001b[0m                       Traceback (most recent call last)",
      "\u001b[0;32m<ipython-input-2-bfa13eb5ec03>\u001b[0m in \u001b[0;36m<module>\u001b[0;34m\u001b[0m\n\u001b[1;32m      1\u001b[0m \u001b[0;31m#import information for PostgreSQL access\u001b[0m\u001b[0;34m\u001b[0m\u001b[0;34m\u001b[0m\u001b[0;34m\u001b[0m\u001b[0m\n\u001b[0;32m----> 2\u001b[0;31m \u001b[0;32mfrom\u001b[0m \u001b[0mconfig\u001b[0m \u001b[0;32mimport\u001b[0m \u001b[0;34m(\u001b[0m\u001b[0muser\u001b[0m\u001b[0;34m,\u001b[0m \u001b[0mpassword\u001b[0m\u001b[0;34m,\u001b[0m \u001b[0mhost\u001b[0m\u001b[0;34m,\u001b[0m \u001b[0mport\u001b[0m\u001b[0;34m,\u001b[0m \u001b[0mdatabase\u001b[0m\u001b[0;34m)\u001b[0m\u001b[0;34m\u001b[0m\u001b[0;34m\u001b[0m\u001b[0m\n\u001b[0m",
      "\u001b[0;31mModuleNotFoundError\u001b[0m: No module named 'config'"
     ]
    }
   ],
   "source": [
    "#import information for PostgreSQL access\n",
    "from config import (user, password, host, port, database)"
   ]
  },
  {
   "cell_type": "code",
   "execution_count": null,
   "metadata": {},
   "outputs": [],
   "source": [
    "#import starter code for connecting SQL database to Pandas \n",
    "from sqlalchemy import create_engine\n",
    "engine = create_engine(f'postgresql://{user}:{password}@{host}:{port}/{database}')\n",
    "connection = engine.connect()"
   ]
  },
  {
   "cell_type": "code",
   "execution_count": null,
   "metadata": {},
   "outputs": [],
   "source": [
    "#create dataframes for employees, titles, and salary for analysis\n",
    "employees_df = pd.read_sql_table(\"employees\", con = connection)\n",
    "titles_df = pd.read_sql_table(\"titles\", con = connection)\n",
    "salaries_df = pd.read_sql_table(\"salaries\", con = connection)"
   ]
  },
  {
   "cell_type": "code",
   "execution_count": null,
   "metadata": {},
   "outputs": [],
   "source": [
    "employees_df.head()\n",
    "titles_df.head()\n",
    "employees_df.head()"
   ]
  },
  {
   "cell_type": "code",
   "execution_count": null,
   "metadata": {},
   "outputs": [],
   "source": [
    "#Salary variable to determine common salary ranges among employees\n",
    "salary = salaries_df[\"salary\"]\n",
    "salary"
   ]
  },
  {
   "cell_type": "code",
   "execution_count": null,
   "metadata": {},
   "outputs": [],
   "source": [
    "#Use Matplotlib to create a histogram to visualize common salary ranges\n",
    "plt.figure(figsize = (18, 20))\n",
    "\n",
    "plt.hist(salary, color = \"orange\", alpha = 0.75)\n",
    "\n",
    "plt.title(\"Common Salary Ranges Among Pewlett Hackard Employees\", fontsize = 20)\n",
    "plt.xlabel(\"Salaries\", fontsize = 18)\n",
    "plt.ylabel(\"Number of Employees\", fontsize = 18)"
   ]
  },
  {
   "cell_type": "code",
   "execution_count": null,
   "metadata": {},
   "outputs": [],
   "source": [
    "#rename title_id to emp_title to merge dataframes on that column\n",
    "titles_df.rename(columns = {\"title_id\": \"emp_title\"}, inplace = True)\n",
    "titles_df.head()"
   ]
  },
  {
   "cell_type": "code",
   "execution_count": null,
   "metadata": {},
   "outputs": [],
   "source": [
    "#merge employees and salaries dataframes, and then merge onto titles\n",
    "initial_merge = pd.merge(employees_df, salaries_df, how= \"inner\", right_on = \"emp_no\", left_on = \"emp_no\", on=None, sort=False, copy = True, indicator = False, validate = None)\n",
    "initial_merge.head()"
   ]
  },
  {
   "cell_type": "code",
   "execution_count": null,
   "metadata": {},
   "outputs": [],
   "source": [
    "final_merge = pd.merge(initial_merge, titles_df, how = \"inner\", right_on = \"emp_title\", left_on = \"emp_title\", on=None, sort=False, copy = True, indicator = False, validate = None)\n",
    "final_merge.head()"
   ]
  },
  {
   "cell_type": "code",
   "execution_count": null,
   "metadata": {},
   "outputs": [],
   "source": []
  }
 ],
 "metadata": {
  "kernelspec": {
   "display_name": "Python 3",
   "language": "python",
   "name": "python3"
  },
  "language_info": {
   "codemirror_mode": {
    "name": "ipython",
    "version": 3
   },
   "file_extension": ".py",
   "mimetype": "text/x-python",
   "name": "python",
   "nbconvert_exporter": "python",
   "pygments_lexer": "ipython3",
   "version": "3.6.10"
  }
 },
 "nbformat": 4,
 "nbformat_minor": 4
}
